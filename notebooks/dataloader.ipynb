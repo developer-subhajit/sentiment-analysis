{
 "cells": [
  {
   "cell_type": "markdown",
   "metadata": {},
   "source": [
    "# Data Loading and Analysis\n",
    "Load IMDB dataset from Hugging Face Hub and perform exploratory data analysis"
   ]
  },
  {
   "cell_type": "code",
   "execution_count": 36,
   "metadata": {},
   "outputs": [
    {
     "name": "stdout",
     "output_type": "stream",
     "text": [
      "{   'test': Dataset({\n",
      "    features: ['text', 'label'],\n",
      "    num_rows: 25000\n",
      "}),\n",
      "    'train': Dataset({\n",
      "    features: ['text', 'label'],\n",
      "    num_rows: 25000\n",
      "}),\n",
      "    'unsupervised': Dataset({\n",
      "    features: ['text', 'label'],\n",
      "    num_rows: 50000\n",
      "})}\n"
     ]
    }
   ],
   "source": [
    "from datasets import load_dataset\n",
    "from pprint import pprint\n",
    "import pandas as pd\n",
    "\n",
    "def load_data(dataset_name: str):\n",
    "    try:\n",
    "        dataset = load_dataset(dataset_name)\n",
    "        return dataset\n",
    "    except Exception as e:\n",
    "        print(f\"Error loading dataset: {e}\")\n",
    "        return None\n",
    "\n",
    "\n",
    "dataset = load_data('imdb')\n",
    "pprint(dataset, indent=4)\n"
   ]
  },
  {
   "cell_type": "code",
   "execution_count": 39,
   "metadata": {},
   "outputs": [
    {
     "name": "stdout",
     "output_type": "stream",
     "text": [
      "Dataset: train\n",
      "Number of rows: 25000\n",
      "Number of columns: 2\n",
      "Column names: ['text', 'label']\n",
      "Dataset: test\n",
      "Number of rows: 25000\n",
      "Number of columns: 2\n",
      "Column names: ['text', 'label']\n",
      "Dataset: unsupervised\n",
      "Number of rows: 50000\n",
      "Number of columns: 2\n",
      "Column names: ['text', 'label']\n"
     ]
    }
   ],
   "source": [
    "def get_data_info(dataset, show_sample=False):\n",
    "    for key in dataset.keys():\n",
    "        print(f\"Dataset: {key}\")\n",
    "        print(f\"Number of rows: {len(dataset[key])}\")\n",
    "        print(f\"Number of columns: {len(dataset[key].column_names)}\")\n",
    "        print(f\"Column names: {dataset[key].column_names}\")\n",
    "    \n",
    "        if show_sample:\n",
    "            display(pd.DataFrame(dataset[key][:5]))\n",
    "\n",
    "\n",
    "get_data_info(dataset, show_sample=False)"
   ]
  }
 ],
 "metadata": {
  "kernelspec": {
   "display_name": "sentiment-analysis-env",
   "language": "python",
   "name": "python3"
  },
  "language_info": {
   "codemirror_mode": {
    "name": "ipython",
    "version": 3
   },
   "file_extension": ".py",
   "mimetype": "text/x-python",
   "name": "python",
   "nbconvert_exporter": "python",
   "pygments_lexer": "ipython3",
   "version": "3.9.18"
  }
 },
 "nbformat": 4,
 "nbformat_minor": 2
}
